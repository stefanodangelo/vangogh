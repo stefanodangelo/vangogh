{
 "cells": [
  {
   "cell_type": "markdown",
   "metadata": {},
   "source": [
    "## Classifier deception\n",
    "Code has been taken from [here](https://pytorch.org/tutorials/beginner/transfer_learning_tutorial.html)"
   ]
  },
  {
   "cell_type": "code",
   "execution_count": 1,
   "metadata": {},
   "outputs": [
    {
     "data": {
      "text/plain": [
       "<matplotlib.pyplot._IonContext at 0x1b2d9c77c88>"
      ]
     },
     "execution_count": 1,
     "metadata": {},
     "output_type": "execute_result"
    }
   ],
   "source": [
    "# License: BSD\n",
    "# Author: Sasank Chilamkurthy\n",
    "\n",
    "from __future__ import print_function, division\n",
    "\n",
    "import torch\n",
    "import torch.nn as nn\n",
    "import torch.optim as optim\n",
    "from torch.optim import lr_scheduler\n",
    "import torch.backends.cudnn as cudnn\n",
    "import numpy as np\n",
    "import torchvision\n",
    "from torchvision import datasets, models, transforms\n",
    "import matplotlib.pyplot as plt\n",
    "import time\n",
    "import os\n",
    "import copy\n",
    "\n",
    "cudnn.benchmark = True\n",
    "plt.ion()   # interactive mode"
   ]
  },
  {
   "cell_type": "code",
   "execution_count": 2,
   "metadata": {},
   "outputs": [],
   "source": [
    "# Data augmentation and normalization for training\n",
    "# Just normalization for validation\n",
    "data_transforms = {\n",
    "    'train': transforms.Compose([\n",
    "        transforms.ToTensor(),\n",
    "        transforms.Normalize([0.485, 0.456, 0.406], [0.229, 0.224, 0.225])\n",
    "    ]),\n",
    "    'test': transforms.Compose([\n",
    "        transforms.ToTensor(),\n",
    "        transforms.Normalize([0.485, 0.456, 0.406], [0.229, 0.224, 0.225])\n",
    "    ]),\n",
    "}"
   ]
  },
  {
   "cell_type": "code",
   "execution_count": 3,
   "metadata": {},
   "outputs": [],
   "source": [
    "image_datasets = {x: datasets.ImageFolder(\"./\" + x,\n",
    "                                          data_transforms[x])\n",
    "                  for x in ['train', 'test']}\n",
    "dataloaders = {'train': torch.utils.data.DataLoader(image_datasets['train'], batch_size=4,\n",
    "                                             shuffle=True, num_workers=4),\n",
    "               'test': torch.utils.data.DataLoader(image_datasets['test'], batch_size=1,\n",
    "                                             shuffle=False, num_workers=4)\n",
    "              }\n",
    "dataset_sizes = {x: len(image_datasets[x]) for x in ['train', 'test']}\n",
    "class_names = image_datasets['train'].classes\n",
    "\n",
    "device = torch.device(\"cuda:0\" if torch.cuda.is_available() else \"cpu\")"
   ]
  },
  {
   "cell_type": "code",
   "execution_count": 4,
   "metadata": {},
   "outputs": [],
   "source": [
    "def train_model(model, criterion, optimizer, scheduler, num_epochs=25):\n",
    "    since = time.time()\n",
    "\n",
    "    for epoch in range(num_epochs):\n",
    "        print(f'Epoch {epoch+1}/{num_epochs}')\n",
    "        print('-' * 10)\n",
    "\n",
    "        # Each epoch has a training and validation phase\n",
    "        for phase in ['train', 'test']:\n",
    "            if phase == 'train':\n",
    "                model.train()  # Set model to training mode\n",
    "            else:\n",
    "                model.eval()   # Set model to evaluate mode\n",
    "\n",
    "            running_loss = 0.0\n",
    "            running_corrects = 0\n",
    "\n",
    "            # Iterate over data.\n",
    "            for inputs, labels in dataloaders[phase]:\n",
    "                inputs = inputs.to(device)\n",
    "                labels = labels.to(device)\n",
    "\n",
    "                # zero the parameter gradients\n",
    "                optimizer.zero_grad()\n",
    "\n",
    "                # forward\n",
    "                # track history if only in train\n",
    "                with torch.set_grad_enabled(phase == 'train'):\n",
    "                    outputs = model(inputs)\n",
    "                    _, preds = torch.max(outputs, 1)\n",
    "                    loss = criterion(outputs, labels)\n",
    "\n",
    "                    # backward + optimize only if in training phase\n",
    "                    if phase == 'train':\n",
    "                        loss.backward()\n",
    "                        optimizer.step()\n",
    "\n",
    "                # statistics\n",
    "                running_loss += loss.item() * inputs.size(0)\n",
    "                running_corrects += torch.sum(preds == labels.data)\n",
    "                \n",
    "            if phase == 'train':\n",
    "                scheduler.step()\n",
    "\n",
    "            epoch_loss = running_loss / dataset_sizes[phase]\n",
    "            epoch_acc = running_corrects.double() / dataset_sizes[phase]\n",
    "\n",
    "            print(f'{phase} Loss: {epoch_loss:.4f} Acc: {epoch_acc:.4f}')\n",
    "\n",
    "        print()\n",
    "\n",
    "    time_elapsed = time.time() - since\n",
    "    print(f'Training complete in {time_elapsed // 60:.0f}m {time_elapsed % 60:.0f}s')\n",
    "\n",
    "    return model"
   ]
  },
  {
   "cell_type": "code",
   "execution_count": 5,
   "metadata": {},
   "outputs": [],
   "source": [
    "def get_error_mask(model):\n",
    "    was_training = model.training\n",
    "    model.eval()\n",
    "    \n",
    "    error_mask = []\n",
    "    \n",
    "    with torch.no_grad():\n",
    "        for i, (input, label) in enumerate(dataloaders['test']):\n",
    "            input = input.to(device)\n",
    "            label = label.to(device)\n",
    "\n",
    "            outputs = model(input)\n",
    "            _, pred = torch.max(outputs, 1)\n",
    "            \n",
    "            true = class_names[label]\n",
    "            pred = class_names[pred]\n",
    "\n",
    "            error_mask.append(true != pred)\n",
    "\n",
    "        model.train(mode=was_training)\n",
    "        return error_mask"
   ]
  },
  {
   "cell_type": "code",
   "execution_count": 6,
   "metadata": {},
   "outputs": [],
   "source": [
    "model_ft = models.resnet18(pretrained=True)\n",
    "num_ftrs = model_ft.fc.in_features\n",
    "model_ft.fc = nn.Linear(num_ftrs, len(class_names))\n",
    "\n",
    "model_ft = model_ft.to(device)\n",
    "\n",
    "criterion = nn.CrossEntropyLoss()\n",
    "\n",
    "# Only classifier's parameters are being optimized\n",
    "optimizer_ft = optim.SGD(model_ft.fc.parameters(), lr=0.001, momentum=0.9)\n",
    "\n",
    "# Decay LR by a factor of 0.1 every 7 epochs\n",
    "exp_lr_scheduler = lr_scheduler.StepLR(optimizer_ft, step_size=7, gamma=0.1)"
   ]
  },
  {
   "cell_type": "code",
   "execution_count": 7,
   "metadata": {
    "scrolled": true
   },
   "outputs": [
    {
     "name": "stdout",
     "output_type": "stream",
     "text": [
      "Epoch 1/10\n",
      "----------\n",
      "train Loss: 0.8409 Acc: 0.5256\n",
      "test Loss: 1.0588 Acc: 0.5088\n",
      "\n",
      "Epoch 2/10\n",
      "----------\n",
      "train Loss: 0.5354 Acc: 0.7179\n",
      "test Loss: 0.4656 Acc: 0.7018\n",
      "\n",
      "Epoch 3/10\n",
      "----------\n",
      "train Loss: 0.5086 Acc: 0.7650\n",
      "test Loss: 0.4728 Acc: 0.7544\n",
      "\n",
      "Epoch 4/10\n",
      "----------\n",
      "train Loss: 0.4679 Acc: 0.8077\n",
      "test Loss: 0.3030 Acc: 0.8772\n",
      "\n",
      "Epoch 5/10\n",
      "----------\n",
      "train Loss: 0.3709 Acc: 0.8248\n",
      "test Loss: 0.2877 Acc: 0.8947\n",
      "\n",
      "Epoch 6/10\n",
      "----------\n",
      "train Loss: 0.3762 Acc: 0.8248\n",
      "test Loss: 0.3067 Acc: 0.8421\n",
      "\n",
      "Epoch 7/10\n",
      "----------\n",
      "train Loss: 0.3871 Acc: 0.8120\n",
      "test Loss: 0.3130 Acc: 0.8070\n",
      "\n",
      "Epoch 8/10\n",
      "----------\n",
      "train Loss: 0.3708 Acc: 0.8419\n",
      "test Loss: 0.2812 Acc: 0.8421\n",
      "\n",
      "Epoch 9/10\n",
      "----------\n",
      "train Loss: 0.3196 Acc: 0.8718\n",
      "test Loss: 0.2887 Acc: 0.8772\n",
      "\n",
      "Epoch 10/10\n",
      "----------\n",
      "train Loss: 0.3191 Acc: 0.8803\n",
      "test Loss: 0.2742 Acc: 0.8772\n",
      "\n",
      "Training complete in 9m 5s\n"
     ]
    }
   ],
   "source": [
    "model_ft = train_model(model_ft, criterion, optimizer_ft, exp_lr_scheduler, num_epochs=10)"
   ]
  },
  {
   "cell_type": "code",
   "execution_count": 8,
   "metadata": {},
   "outputs": [],
   "source": [
    "mask = get_error_mask(model_ft)"
   ]
  },
  {
   "cell_type": "code",
   "execution_count": 9,
   "metadata": {},
   "outputs": [
    {
     "name": "stdout",
     "output_type": "stream",
     "text": [
      "cg: 0.00%\n",
      "nst: 0.00%\n",
      "cnnmrf: 0.00%\n",
      "ours: 3.51%\n",
      "other: 8.77%\n"
     ]
    }
   ],
   "source": [
    "errors = np.array(image_datasets['test'].imgs)[mask][:,0]\n",
    "errors = [e[e.rindex('\\\\')+1:] for e in errors]\n",
    "for model in ['cg', 'nst', 'cnnmrf', 'ours']:\n",
    "    error = len([e for e in errors if model in e]) / len(image_datasets['test'].imgs)\n",
    "    print(f'{model}: {error*100:.2f}%')\n",
    "    \n",
    "error = len([e for e in errors if model not in e]) / len(image_datasets['test'].imgs)\n",
    "print(f'other: {error*100:.2f}%')"
   ]
  }
 ],
 "metadata": {
  "kernelspec": {
   "display_name": "Python 3",
   "language": "python",
   "name": "python3"
  },
  "language_info": {
   "codemirror_mode": {
    "name": "ipython",
    "version": 3
   },
   "file_extension": ".py",
   "mimetype": "text/x-python",
   "name": "python",
   "nbconvert_exporter": "python",
   "pygments_lexer": "ipython3",
   "version": "3.7.9"
  }
 },
 "nbformat": 4,
 "nbformat_minor": 4
}
